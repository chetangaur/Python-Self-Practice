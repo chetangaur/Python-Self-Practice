{
 "cells": [
  {
   "cell_type": "code",
   "execution_count": 9,
   "metadata": {},
   "outputs": [
    {
     "name": "stdout",
     "output_type": "stream",
     "text": [
      "6\n",
      "1 4 2 0 -3 -5\n",
      "0.500000\n",
      "0.333333\n",
      "0.166667\n"
     ]
    }
   ],
   "source": [
    "# Problem Statement- Given an array of integers, calculate the fractions of its elements that are positive, negative, and are zeros.\n",
    "# Print the decimal value of each fraction on a new line.\n",
    "# Note: This challenge introduces precision problems. The test cases are scaled to six decimal places, though answers with absolute error\n",
    "# \"10^-4\" of up to  are acceptable.\n",
    "\n",
    "#!/bin/python3\n",
    "\n",
    "import math\n",
    "import os\n",
    "import random\n",
    "import re\n",
    "import sys\n",
    "\n",
    "def plusMinus(arr):\n",
    "    flag1=0\n",
    "    flag2=0\n",
    "    flag3=0\n",
    "    for i in range(0,n):\n",
    "        if arr[i]==0:\n",
    "            flag1+=1\n",
    "        elif arr[i]>0:\n",
    "            flag2+=1\n",
    "        elif arr[i]<0:\n",
    "            flag3+=1\n",
    "    b=float(flag2/n)\n",
    "    c=float(flag3/n)\n",
    "    d=float(flag1/n)\n",
    "    print ('%.6f'%b)\n",
    "    print ('%.6f'%c)\n",
    "    print ('%.6f'%d)\n",
    "\n",
    "if __name__ == '__main__':\n",
    "    n = int(input())\n",
    "\n",
    "    arr = list(map(int, input().rstrip().split()))\n",
    "\n",
    "    plusMinus(arr)\n",
    "    \n"
   ]
  },
  {
   "cell_type": "code",
   "execution_count": 8,
   "metadata": {},
   "outputs": [
    {
     "name": "stdout",
     "output_type": "stream",
     "text": [
      "3.142857\n"
     ]
    }
   ],
   "source": [
    "a=22/7\n",
    "print ('%.6f'%a) "
   ]
  },
  {
   "cell_type": "code",
   "execution_count": null,
   "metadata": {},
   "outputs": [],
   "source": []
  }
 ],
 "metadata": {
  "kernelspec": {
   "display_name": "Python 3",
   "language": "python",
   "name": "python3"
  },
  "language_info": {
   "codemirror_mode": {
    "name": "ipython",
    "version": 3
   },
   "file_extension": ".py",
   "mimetype": "text/x-python",
   "name": "python",
   "nbconvert_exporter": "python",
   "pygments_lexer": "ipython3",
   "version": "3.6.5"
  }
 },
 "nbformat": 4,
 "nbformat_minor": 2
}
